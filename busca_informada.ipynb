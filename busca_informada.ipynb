{
  "nbformat": 4,
  "nbformat_minor": 0,
  "metadata": {
    "colab": {
      "name": "busca_informada.ipynb",
      "provenance": [],
      "collapsed_sections": [],
      "authorship_tag": "ABX9TyOmgcpeBOcSmsUsl+Kj4ama",
      "include_colab_link": true
    },
    "kernelspec": {
      "name": "python3",
      "display_name": "Python 3"
    },
    "language_info": {
      "name": "python"
    }
  },
  "cells": [
    {
      "cell_type": "markdown",
      "metadata": {
        "id": "view-in-github",
        "colab_type": "text"
      },
      "source": [
        "<a href=\"https://colab.research.google.com/github/ggzlemos/busca_informada/blob/main/busca_informada.ipynb\" target=\"_parent\"><img src=\"https://colab.research.google.com/assets/colab-badge.svg\" alt=\"Open In Colab\"/></a>"
      ]
    },
    {
      "cell_type": "markdown",
      "metadata": {
        "id": "LMG5ida1Gi-t"
      },
      "source": [
        "# O Problema\n",
        "Sliding Puzzle - Bloco Deslizante"
      ]
    },
    {
      "cell_type": "code",
      "metadata": {
        "colab": {
          "base_uri": "https://localhost:8080/",
          "height": 218
        },
        "id": "XZJVoltiGmln",
        "outputId": "9668821a-a2bb-4a5e-915e-ee23cd1ad1fe"
      },
      "source": [
        "# !wget -qq https://miro.medium.com/max/700/1*W7jg4GmEjGBypd9WPktasQ.gif\n",
        "from IPython.display import Image\n",
        "Image(url='https://miro.medium.com/max/700/1*W7jg4GmEjGBypd9WPktasQ.gif',width=200)"
      ],
      "execution_count": 16,
      "outputs": [
        {
          "output_type": "execute_result",
          "data": {
            "text/html": [
              "<img src=\"https://miro.medium.com/max/700/1*W7jg4GmEjGBypd9WPktasQ.gif\" width=\"200\"/>"
            ],
            "text/plain": [
              "<IPython.core.display.Image object>"
            ]
          },
          "metadata": {
            "tags": []
          },
          "execution_count": 16
        }
      ]
    },
    {
      "cell_type": "markdown",
      "metadata": {
        "id": "hM5oyl_MGrCu"
      },
      "source": [
        "# Resolver o quebra-cabeças usando Buscas"
      ]
    },
    {
      "cell_type": "markdown",
      "metadata": {
        "id": "6yi0rftIGs1p"
      },
      "source": [
        "## Busca com Informação"
      ]
    },
    {
      "cell_type": "code",
      "metadata": {
        "id": "Ty72kHiTmIJX"
      },
      "source": [
        "import numpy as np"
      ],
      "execution_count": 1,
      "outputs": []
    },
    {
      "cell_type": "code",
      "metadata": {
        "id": "ri13ifIDmY8w"
      },
      "source": [
        "class Nodo:\n",
        "  def __init__(self, estado):       \n",
        "    self.estado = estado\n",
        "    self.caminho = []\n",
        "    self.pai = None\n",
        "    self.g = 0\n",
        "    self.h = 0\n",
        "    self.f = 0\n",
        "\n",
        "  def getEstado(self):\n",
        "    return self.estado\n",
        "\n",
        "  def setPai(self, nodo):\n",
        "    self.pai = nodo\n",
        "\n",
        "  def getPai(self):\n",
        "    return self.pai  \n",
        "   \n",
        "  def coordVazio(self):\n",
        "    i, j = np.where(self.estado == 0)\n",
        "    return i[0], j[0]\n",
        "\n",
        "  def constroiCaminho(self):\n",
        "    caminho = []\n",
        "    filho = self\n",
        "    pai = self.getPai()\n",
        "    while pai != None:\n",
        "      caminho.append(pai.getEstado())\n",
        "      pai = pai.getPai()    \n",
        "    caminho.reverse()\n",
        "    caminho.append(self.estado)\n",
        "    self.caminho = caminho\n",
        "\n",
        "  def imprimeCaminho(self):\n",
        "    self.constroiCaminho()\n",
        "    print(\"Resultado:\")\n",
        "    for i in self.caminho:\n",
        "      print(i)\n",
        "    \n",
        "  def getProfundidade(self):\n",
        "    return len(self.caminho)-1\n",
        "\n",
        "  def getDim(self):\n",
        "    return self.estado.shape\n",
        "\n",
        "  def geraEstados(self):\n",
        "    vizinhos = []  \n",
        "    I, J = self.getDim()\n",
        "    i, j = self.coordVazio() \n",
        "    dj = np.array([-1, 1, 0, 0])\n",
        "    di = np.array([0, 0, 1, -1])\n",
        "        \n",
        "    for k in range(0, 4):\n",
        "      i_novo = i + di[k]\n",
        "      j_novo = j + dj[k]  \n",
        "      if not i_novo < 0 and not j_novo < 0:\n",
        "        if not i_novo >= I and not j_novo >= J:\n",
        "          novo_vizinho = self.estado.copy()       \n",
        "          novo_vizinho[i][j], novo_vizinho[i_novo][j_novo] = novo_vizinho[i_novo][j_novo], novo_vizinho[i][j]\n",
        "          novo_vizinho = Nodo(novo_vizinho)        \n",
        "          vizinhos.append(novo_vizinho)                  \n",
        "    return vizinhos\n",
        "  \n",
        "  def calculaG(self ):\n",
        "    if self.pai == None:\n",
        "      self.g = 0 \n",
        "    else:\n",
        "      self.g = self.pai.g + 1\n",
        "    return self.g\n",
        "\n",
        "  def atualizaG(self, estado):\n",
        "    self.g = estado.g + 1 \n",
        "\n",
        "  def calculaH(self, estado_final):\n",
        "    a = self.estado.reshape(-1)\n",
        "    b = estado_final.reshape(-1)\n",
        "    self.h = (a != b).sum() -1\n",
        "    return self.h\n",
        "\n",
        "  def calculaF(self):     \n",
        "    self.f = self.g + self.h\n",
        "\n",
        "  def getF(self):\n",
        "    return self.f"
      ],
      "execution_count": 9,
      "outputs": []
    },
    {
      "cell_type": "code",
      "metadata": {
        "id": "D_bXEKFjmdDF"
      },
      "source": [
        "def foi_visitado(visitados, nodo):\n",
        "  estado = nodo.getEstado()\n",
        "  for i in visitados:\n",
        "    if np.array_equal(i.getEstado(), estado):\n",
        "      return True\n",
        "  return False"
      ],
      "execution_count": 3,
      "outputs": []
    },
    {
      "cell_type": "code",
      "metadata": {
        "id": "KvkR0j-Jv1LQ"
      },
      "source": [
        "def menorF(fila):\n",
        "  dif = float('inf')\n",
        "  menor = None\n",
        "  for estado in fila:\n",
        "    if estado.f < dif:\n",
        "      dif = estado.f\n",
        "      menor = estado\n",
        "  fila.remove(menor)    \n",
        "  return menor"
      ],
      "execution_count": 15,
      "outputs": []
    },
    {
      "cell_type": "code",
      "metadata": {
        "id": "zCI1zOeymfla"
      },
      "source": [
        "def a_estrela(estado_inicial, estado_final):\n",
        "  fila = [estado_inicial]\n",
        "  visitados = [] \n",
        " \n",
        "  while len(fila) > 0:   \n",
        "    nodo = menorF(fila)\n",
        "    visitados.append(nodo)\n",
        "\n",
        "    if np.array_equal(nodo.getEstado(), estado_final):             \n",
        "      return nodo\n",
        "\n",
        "    vizinhanca = nodo.geraEstados()\n",
        "    for vizinho in vizinhanca:\n",
        "      if not foi_visitado(visitados, vizinho):\n",
        "        if not foi_visitado(fila, vizinho):\n",
        "          vizinho.setPai(nodo)\n",
        "          vizinho.calculaG()\n",
        "          vizinho.calculaH(estado_final)\n",
        "          vizinho.calculaF()\n",
        "          fila.append(vizinho)\n",
        "        elif foi_visitado(fila, vizinho):\n",
        "          if vizinho.g > nodo.g+1:\n",
        "            vizinho.atualizaG(nodo)\n",
        "            vizinho.calculaF()\n",
        "  return Nodo(np.array([])) #retorna um Nodo vazio se não encontrar um caminho               "
      ],
      "execution_count": 5,
      "outputs": []
    },
    {
      "cell_type": "code",
      "metadata": {
        "colab": {
          "base_uri": "https://localhost:8080/"
        },
        "id": "1ggnMR7IvxNZ",
        "outputId": "1aab9902-2f48-4ee1-aad5-fbe039b89591"
      },
      "source": [
        "estado_inicial = Nodo(np.array([1,2,3,4,5,6,0,7,8]).reshape((3,3)))\n",
        "estado_final = np.array([1,2,3,4,5,6,7,8,0]).reshape((3,3))\n",
        "resultado = a_estrela(estado_inicial, estado_final)\n",
        "resultado.imprimeCaminho()\n",
        "resultado.getProfundidade()"
      ],
      "execution_count": 13,
      "outputs": [
        {
          "output_type": "stream",
          "text": [
            "Resultado:\n",
            "[[1 2 3]\n",
            " [4 5 6]\n",
            " [0 7 8]]\n",
            "[[1 2 3]\n",
            " [4 5 6]\n",
            " [7 0 8]]\n",
            "[[1 2 3]\n",
            " [4 5 6]\n",
            " [7 8 0]]\n"
          ],
          "name": "stdout"
        },
        {
          "output_type": "execute_result",
          "data": {
            "text/plain": [
              "2"
            ]
          },
          "metadata": {
            "tags": []
          },
          "execution_count": 13
        }
      ]
    },
    {
      "cell_type": "code",
      "metadata": {
        "id": "Hgzy9N8L3DoQ",
        "colab": {
          "base_uri": "https://localhost:8080/"
        },
        "outputId": "b98dd78f-3393-436e-bc0f-b62389c82f6d"
      },
      "source": [
        "estado_inicial = Nodo(np.array([0,1,5,3,8,2,7,4,6]).reshape((3,3)))\n",
        "estado_final = np.array([1,2,3,4,5,6,7,8,0]).reshape((3,3))\n",
        "resultado = a_estrela(estado_inicial, estado_final)\n",
        "resultado.imprimeCaminho()\n",
        "resultado.getProfundidade()"
      ],
      "execution_count": 14,
      "outputs": [
        {
          "output_type": "stream",
          "text": [
            "Resultado:\n",
            "[[0 1 5]\n",
            " [3 8 2]\n",
            " [7 4 6]]\n",
            "[[1 0 5]\n",
            " [3 8 2]\n",
            " [7 4 6]]\n",
            "[[1 5 0]\n",
            " [3 8 2]\n",
            " [7 4 6]]\n",
            "[[1 5 2]\n",
            " [3 8 0]\n",
            " [7 4 6]]\n",
            "[[1 5 2]\n",
            " [3 8 6]\n",
            " [7 4 0]]\n",
            "[[1 5 2]\n",
            " [3 8 6]\n",
            " [7 0 4]]\n",
            "[[1 5 2]\n",
            " [3 0 6]\n",
            " [7 8 4]]\n",
            "[[1 5 2]\n",
            " [0 3 6]\n",
            " [7 8 4]]\n",
            "[[1 5 2]\n",
            " [7 3 6]\n",
            " [0 8 4]]\n",
            "[[1 5 2]\n",
            " [7 3 6]\n",
            " [8 0 4]]\n",
            "[[1 5 2]\n",
            " [7 3 6]\n",
            " [8 4 0]]\n",
            "[[1 5 2]\n",
            " [7 3 0]\n",
            " [8 4 6]]\n",
            "[[1 5 2]\n",
            " [7 0 3]\n",
            " [8 4 6]]\n",
            "[[1 5 2]\n",
            " [7 4 3]\n",
            " [8 0 6]]\n",
            "[[1 5 2]\n",
            " [7 4 3]\n",
            " [0 8 6]]\n",
            "[[1 5 2]\n",
            " [0 4 3]\n",
            " [7 8 6]]\n",
            "[[1 5 2]\n",
            " [4 0 3]\n",
            " [7 8 6]]\n",
            "[[1 0 2]\n",
            " [4 5 3]\n",
            " [7 8 6]]\n",
            "[[1 2 0]\n",
            " [4 5 3]\n",
            " [7 8 6]]\n",
            "[[1 2 3]\n",
            " [4 5 0]\n",
            " [7 8 6]]\n",
            "[[1 2 3]\n",
            " [4 5 6]\n",
            " [7 8 0]]\n"
          ],
          "name": "stdout"
        },
        {
          "output_type": "execute_result",
          "data": {
            "text/plain": [
              "20"
            ]
          },
          "metadata": {
            "tags": []
          },
          "execution_count": 14
        }
      ]
    },
    {
      "cell_type": "markdown",
      "metadata": {
        "id": "3HTqefBjG3HF"
      },
      "source": [
        "## Discusta sobre o desempenho dos métodos em questões de:\n",
        "\n",
        "\n",
        "1.   Consumo de memória\n",
        "2.   Processamento\n"
      ]
    },
    {
      "cell_type": "markdown",
      "metadata": {
        "id": "AQk1xHQGG4LC"
      },
      "source": [
        "###O A* se mostrou mais eficiente em resolver o problema do quebra-cabeça deslizante. Ele executa em tempo consideravelmente menor que a busca em largura e a busca em profundidade.\n",
        "\n",
        "###Em relação ao consumo de memória, o algoritmo não estourou a memória em nenhum dos exemplos testados, como havia ocorrido na execução da busca em largura, por exemplo. Porém , ele também armazena na memória  outros nodos que não fazem parte do caminho até a resposta."
      ]
    }
  ]
}